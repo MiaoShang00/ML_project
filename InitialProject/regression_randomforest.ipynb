{
 "cells": [
  {
   "cell_type": "code",
   "execution_count": 2,
   "id": "3402cba8",
   "metadata": {},
   "outputs": [],
   "source": [
    "import h5py\n",
    "import pandas\n",
    "import numpy as np\n",
    "\n",
    "def load_data(name):\n",
    "    with h5py.File(f'{name}.h5', 'r') as f:\n",
    "        filename = name.split('/')[0]\n",
    "        return pandas.DataFrame(f[filename][:], dtype=np.float64)\n",
    "\n",
    "train = load_data('train')\n",
    "test  = load_data('test')"
   ]
  },
  {
   "cell_type": "code",
   "execution_count": 3,
   "id": "0ba3a597",
   "metadata": {},
   "outputs": [],
   "source": [
    "all_variables = ['actualInteractionsPerCrossing', 'averageInteractionsPerCrossing', 'correctedActualMu', 'correctedAverageMu', 'correctedScaledActualMu', 'correctedScaledAverageMu', 'NvtxReco', 'p_nTracks', 'p_pt_track', 'p_eta', 'p_phi', 'p_charge', 'p_qOverP', 'p_z0', 'p_d0', 'p_sigmad0', 'p_d0Sig', 'p_EptRatio', 'p_dPOverP', 'p_z0theta', 'p_etaCluster', 'p_phiCluster', 'p_eCluster', 'p_rawEtaCluster', 'p_rawPhiCluster', 'p_rawECluster', 'p_eClusterLr0', 'p_eClusterLr1', 'p_eClusterLr2', 'p_eClusterLr3', 'p_etaClusterLr1', 'p_etaClusterLr2', 'p_phiClusterLr2', 'p_eAccCluster', 'p_f0Cluster', 'p_etaCalo', 'p_phiCalo', 'p_eTileGap3Cluster', 'p_cellIndexCluster', 'p_phiModCalo', 'p_etaModCalo', 'p_dPhiTH3', 'p_R12', 'p_fTG3', 'p_weta2', 'p_Reta', 'p_Rphi', 'p_Eratio', 'p_f1', 'p_f3', 'p_Rhad', 'p_Rhad1', 'p_deltaEta1', 'p_deltaPhiRescaled2', 'p_TRTPID', 'p_TRTTrackOccupancy', 'p_numberOfInnermostPixelHits', 'p_numberOfPixelHits', 'p_numberOfSCTHits', 'p_numberOfTRTHits', 'p_numberOfTRTXenonHits', 'p_chi2', 'p_ndof', 'p_SharedMuonTrack', 'p_E7x7_Lr2', 'p_E7x7_Lr3', 'p_E_Lr0_HiG', 'p_E_Lr0_LowG', 'p_E_Lr0_MedG', 'p_E_Lr1_HiG', 'p_E_Lr1_LowG', 'p_E_Lr1_MedG', 'p_E_Lr2_HiG', 'p_E_Lr2_LowG', 'p_E_Lr2_MedG', 'p_E_Lr3_HiG', 'p_E_Lr3_LowG', 'p_E_Lr3_MedG', 'p_ambiguityType', 'p_asy1', 'p_author', 'p_barys1', 'p_core57cellsEnergyCorrection', 'p_deltaEta0', 'p_deltaEta2', 'p_deltaEta3', 'p_deltaPhi0', 'p_deltaPhi1', 'p_deltaPhi2', 'p_deltaPhi3', 'p_deltaPhiFromLastMeasurement', 'p_deltaPhiRescaled0', 'p_deltaPhiRescaled1', 'p_deltaPhiRescaled3', 'p_e1152', 'p_e132', 'p_e235', 'p_e255', 'p_e2ts1', 'p_ecore', 'p_emins1', 'p_etconeCorrBitset', 'p_ethad', 'p_ethad1', 'p_f1core', 'p_f3core', 'p_maxEcell_energy', 'p_maxEcell_gain', 'p_maxEcell_time', 'p_maxEcell_x', 'p_maxEcell_y', 'p_maxEcell_z', 'p_nCells_Lr0_HiG', 'p_nCells_Lr0_LowG', 'p_nCells_Lr0_MedG', 'p_nCells_Lr1_HiG', 'p_nCells_Lr1_LowG', 'p_nCells_Lr1_MedG', 'p_nCells_Lr2_HiG', 'p_nCells_Lr2_LowG', 'p_nCells_Lr2_MedG', 'p_nCells_Lr3_HiG', 'p_nCells_Lr3_LowG', 'p_nCells_Lr3_MedG', 'p_pos', 'p_pos7', 'p_poscs1', 'p_poscs2', 'p_ptconeCorrBitset', 'p_ptconecoreTrackPtrCorrection', 'p_r33over37allcalo', 'p_topoetconeCorrBitset', 'p_topoetconecoreConeEnergyCorrection', 'p_topoetconecoreConeSCEnergyCorrection', 'p_weta1', 'p_widths1', 'p_widths2', 'p_wtots1', 'p_e233', 'p_e237', 'p_e277', 'p_e2tsts1', 'p_ehad1', 'p_emaxs1', 'p_fracs1', 'p_DeltaE', 'p_E3x5_Lr0', 'p_E3x5_Lr1', 'p_E3x5_Lr2', 'p_E3x5_Lr3', 'p_E5x7_Lr0', 'p_E5x7_Lr1', 'p_E5x7_Lr2', 'p_E5x7_Lr3', 'p_E7x11_Lr0', 'p_E7x11_Lr1', 'p_E7x11_Lr2', 'p_E7x11_Lr3', 'p_E7x7_Lr0', 'p_E7x7_Lr1' ]"
   ]
  },
  {
   "cell_type": "code",
   "execution_count": 4,
   "id": "968f9399",
   "metadata": {},
   "outputs": [],
   "source": [
    "X = train[all_variables]\n",
    "y = train['Truth']\n",
    "z = train['p_truth_E']"
   ]
  },
  {
   "cell_type": "code",
   "execution_count": 7,
   "id": "431945a8",
   "metadata": {},
   "outputs": [],
   "source": [
    "top_20_variables=['p_eAccCluster', 'p_eCluster', 'p_ecore', 'p_e277', 'p_rawECluster', 'p_E7x7_Lr2', 'p_numberOfTRTXenonHits', 'p_E5x7_Lr2', 'p_e237', 'p_E7x11_Lr2', 'p_E3x5_Lr2', 'p_e255', 'p_e235', 'p_deltaPhiRescaled0', 'p_E_Lr1_MedG', 'p_deltaEta1', 'p_e2tsts1', 'p_deltaEta2', 'p_E3x5_Lr1', 'p_E7x11_Lr1']\n"
   ]
  },
  {
   "cell_type": "code",
   "execution_count": 8,
   "id": "b03c994c",
   "metadata": {},
   "outputs": [],
   "source": [
    "# Split the dataset into training and testing sets\n",
    "from sklearn.model_selection import train_test_split\n",
    "\n",
    "# Prepare your dataset by filtering and selecting variables\n",
    "filtered_dataset = X[y==1]\n",
    "\n",
    "# Prepare the input features and target variable for training\n",
    "X_train = filtered_dataset\n",
    "y_train = z[y==1]\n",
    "\n",
    "train_data, test_data, train_target, test_target = train_test_split(filtered_dataset[top_20_variables], z[y==1], test_size=0.2, random_state=42)"
   ]
  },
  {
   "cell_type": "code",
   "execution_count": 9,
   "id": "0cf41188",
   "metadata": {},
   "outputs": [
    {
     "name": "stdout",
     "output_type": "stream",
     "text": [
      "Mean Absolute Error (MAE): 0.0770308991963645\n"
     ]
    }
   ],
   "source": [
    "from sklearn.ensemble import RandomForestRegressor\n",
    "# Define the number of trees in the random forest\n",
    "n_estimators = 20\n",
    "\n",
    "# Create the Random Forest regressor\n",
    "regressor = RandomForestRegressor(n_estimators=n_estimators)\n",
    "\n",
    "# Fit the regressor to the training data\n",
    "regressor.fit(train_data, train_target)\n",
    "\n",
    "# Make predictions on the test data\n",
    "y_pred = regressor.predict(test_data[top_20_variables])\n",
    "\n",
    "# Calculate the relative estimate accuracy\n",
    "relative_accuracy = (y_pred - test_target) / test_target\n",
    "\n",
    "# Calculate the Mean Absolute Error (MAE)\n",
    "mae = abs(relative_accuracy).mean()\n",
    "\n",
    "# Print the MAE\n",
    "print(\"Mean Absolute Error (MAE):\", mae)"
   ]
  },
  {
   "cell_type": "code",
   "execution_count": 10,
   "id": "7f8a7ca5",
   "metadata": {},
   "outputs": [],
   "source": [
    "energy = regressor.predict(test[top_20_variables])\n",
    "energy = pandas.DataFrame(energy)\n",
    "energy.columns=['p_truth_E']"
   ]
  },
  {
   "cell_type": "code",
   "execution_count": 13,
   "id": "9723e7b2",
   "metadata": {},
   "outputs": [],
   "source": [
    "energy.to_csv('Regression_MiaoShang_RandomForestRegressor.txt', index=True, header=False)"
   ]
  },
  {
   "cell_type": "code",
   "execution_count": null,
   "id": "392a9baa",
   "metadata": {},
   "outputs": [],
   "source": []
  }
 ],
 "metadata": {
  "kernelspec": {
   "display_name": "appml",
   "language": "python",
   "name": "appml"
  },
  "language_info": {
   "codemirror_mode": {
    "name": "ipython",
    "version": 3
   },
   "file_extension": ".py",
   "mimetype": "text/x-python",
   "name": "python",
   "nbconvert_exporter": "python",
   "pygments_lexer": "ipython3",
   "version": "3.8.12"
  }
 },
 "nbformat": 4,
 "nbformat_minor": 5
}
