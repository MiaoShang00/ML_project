{
 "cells": [
  {
   "cell_type": "markdown",
   "id": "6c28666c",
   "metadata": {},
   "source": [
    "## read data"
   ]
  },
  {
   "cell_type": "code",
   "execution_count": 27,
   "id": "4e4e5da2",
   "metadata": {},
   "outputs": [],
   "source": [
    "import h5py\n",
    "import pandas\n",
    "import numpy as np\n",
    "\n",
    "def load_data(name):\n",
    "    with h5py.File(f'{name}.h5', 'r') as f:\n",
    "        filename = name.split('/')[0]\n",
    "        return pandas.DataFrame(f[filename][:], dtype=np.float64)\n",
    "\n",
    "train = load_data('train')\n",
    "test  = load_data('test')"
   ]
  },
  {
   "cell_type": "code",
   "execution_count": 28,
   "id": "02750eb9",
   "metadata": {
    "scrolled": true
   },
   "outputs": [
    {
     "name": "stdout",
     "output_type": "stream",
     "text": [
      "Shape of training data set: (162500, 166)\n",
      "Shape of test data set: (160651, 164)\n"
     ]
    }
   ],
   "source": [
    "print (f'Shape of training data set: {train.shape}')\n",
    "print (f'Shape of test data set: {test.shape}')"
   ]
  },
  {
   "cell_type": "code",
   "execution_count": 29,
   "id": "b3c2d0e4",
   "metadata": {},
   "outputs": [],
   "source": [
    "all_variables = ['actualInteractionsPerCrossing', 'averageInteractionsPerCrossing', 'correctedActualMu', 'correctedAverageMu', 'correctedScaledActualMu', 'correctedScaledAverageMu', 'NvtxReco', 'p_nTracks', 'p_pt_track', 'p_eta', 'p_phi', 'p_charge', 'p_qOverP', 'p_z0', 'p_d0', 'p_sigmad0', 'p_d0Sig', 'p_EptRatio', 'p_dPOverP', 'p_z0theta', 'p_etaCluster', 'p_phiCluster', 'p_eCluster', 'p_rawEtaCluster', 'p_rawPhiCluster', 'p_rawECluster', 'p_eClusterLr0', 'p_eClusterLr1', 'p_eClusterLr2', 'p_eClusterLr3', 'p_etaClusterLr1', 'p_etaClusterLr2', 'p_phiClusterLr2', 'p_eAccCluster', 'p_f0Cluster', 'p_etaCalo', 'p_phiCalo', 'p_eTileGap3Cluster', 'p_cellIndexCluster', 'p_phiModCalo', 'p_etaModCalo', 'p_dPhiTH3', 'p_R12', 'p_fTG3', 'p_weta2', 'p_Reta', 'p_Rphi', 'p_Eratio', 'p_f1', 'p_f3', 'p_Rhad', 'p_Rhad1', 'p_deltaEta1', 'p_deltaPhiRescaled2', 'p_TRTPID', 'p_TRTTrackOccupancy', 'p_numberOfInnermostPixelHits', 'p_numberOfPixelHits', 'p_numberOfSCTHits', 'p_numberOfTRTHits', 'p_numberOfTRTXenonHits', 'p_chi2', 'p_ndof', 'p_SharedMuonTrack', 'p_E7x7_Lr2', 'p_E7x7_Lr3', 'p_E_Lr0_HiG', 'p_E_Lr0_LowG', 'p_E_Lr0_MedG', 'p_E_Lr1_HiG', 'p_E_Lr1_LowG', 'p_E_Lr1_MedG', 'p_E_Lr2_HiG', 'p_E_Lr2_LowG', 'p_E_Lr2_MedG', 'p_E_Lr3_HiG', 'p_E_Lr3_LowG', 'p_E_Lr3_MedG', 'p_ambiguityType', 'p_asy1', 'p_author', 'p_barys1', 'p_core57cellsEnergyCorrection', 'p_deltaEta0', 'p_deltaEta2', 'p_deltaEta3', 'p_deltaPhi0', 'p_deltaPhi1', 'p_deltaPhi2', 'p_deltaPhi3', 'p_deltaPhiFromLastMeasurement', 'p_deltaPhiRescaled0', 'p_deltaPhiRescaled1', 'p_deltaPhiRescaled3', 'p_e1152', 'p_e132', 'p_e235', 'p_e255', 'p_e2ts1', 'p_ecore', 'p_emins1', 'p_etconeCorrBitset', 'p_ethad', 'p_ethad1', 'p_f1core', 'p_f3core', 'p_maxEcell_energy', 'p_maxEcell_gain', 'p_maxEcell_time', 'p_maxEcell_x', 'p_maxEcell_y', 'p_maxEcell_z', 'p_nCells_Lr0_HiG', 'p_nCells_Lr0_LowG', 'p_nCells_Lr0_MedG', 'p_nCells_Lr1_HiG', 'p_nCells_Lr1_LowG', 'p_nCells_Lr1_MedG', 'p_nCells_Lr2_HiG', 'p_nCells_Lr2_LowG', 'p_nCells_Lr2_MedG', 'p_nCells_Lr3_HiG', 'p_nCells_Lr3_LowG', 'p_nCells_Lr3_MedG', 'p_pos', 'p_pos7', 'p_poscs1', 'p_poscs2', 'p_ptconeCorrBitset', 'p_ptconecoreTrackPtrCorrection', 'p_r33over37allcalo', 'p_topoetconeCorrBitset', 'p_topoetconecoreConeEnergyCorrection', 'p_topoetconecoreConeSCEnergyCorrection', 'p_weta1', 'p_widths1', 'p_widths2', 'p_wtots1', 'p_e233', 'p_e237', 'p_e277', 'p_e2tsts1', 'p_ehad1', 'p_emaxs1', 'p_fracs1', 'p_DeltaE', 'p_E3x5_Lr0', 'p_E3x5_Lr1', 'p_E3x5_Lr2', 'p_E3x5_Lr3', 'p_E5x7_Lr0', 'p_E5x7_Lr1', 'p_E5x7_Lr2', 'p_E5x7_Lr3', 'p_E7x11_Lr0', 'p_E7x11_Lr1', 'p_E7x11_Lr2', 'p_E7x11_Lr3', 'p_E7x7_Lr0', 'p_E7x7_Lr1' ]"
   ]
  },
  {
   "cell_type": "code",
   "execution_count": 30,
   "id": "73e1a99c",
   "metadata": {},
   "outputs": [],
   "source": [
    "X = train[all_variables]\n",
    "y = train['Truth']\n",
    "z = train['p_truth_E']"
   ]
  },
  {
   "cell_type": "markdown",
   "id": "634da48f",
   "metadata": {},
   "source": [
    "## Select variables"
   ]
  },
  {
   "cell_type": "code",
   "execution_count": null,
   "id": "39e6b955",
   "metadata": {},
   "outputs": [],
   "source": [
    "from sklearn.feature_selection import SelectKBest, f_regression\n",
    "from sklearn.ensemble import ExtraTreesRegressor\n",
    "from sklearn.model_selection import train_test_split\n",
    "from sklearn.linear_model import LinearRegression\n",
    "from sklearn.metrics import mean_absolute_error\n",
    "\n",
    "# Prepare your dataset by filtering and selecting variables\n",
    "filtered_dataset = X[y==1]\n",
    "\n",
    "# Prepare the input features and target variable for training\n",
    "X_train = filtered_dataset\n",
    "y_train = z[y==1]\n",
    "\n",
    "# Perform feature selection using ExtraTreesRegressor\n",
    "feature_selector = ExtraTreesRegressor(n_estimators=100, random_state=42)\n",
    "feature_selector.fit(X_train, y_train)\n",
    "\n",
    "# Get the feature importances and sort them in descending order\n",
    "feature_importances = feature_selector.feature_importances_\n",
    "sorted_indices = feature_importances.argsort()[::-1]\n",
    "\n",
    "# Select the top 20 variables based on importance\n",
    "top_20_indices = sorted_indices[:20]\n",
    "top_20_variables = [all_variables[i] for i in top_20_indices]\n",
    "\n",
    "print(\"Selected Variables:\")\n",
    "print(top_20_variables)\n",
    "\n",
    "file = open(\"Regression_MiaoShang_LinearRegression_VariableList.txt\",'w+')\n",
    "for i in range(len(top_20_variables)):\n",
    "    file.write(str(top_20_variables[i])+'\\n')"
   ]
  },
  {
   "cell_type": "markdown",
   "id": "310efe7e",
   "metadata": {},
   "source": [
    "## Train the model"
   ]
  },
  {
   "cell_type": "code",
   "execution_count": null,
   "id": "480ab710",
   "metadata": {},
   "outputs": [],
   "source": [
    "# Split the dataset into training and testing sets\n",
    "train_data, test_data, train_target, test_target = train_test_split(filtered_dataset[top_20_variables], z[y==1], test_size=0.2, random_state=42)\n",
    "\n",
    "# Fit a regression model\n",
    "# Choose either LinearRegression or RandomForestRegressor\n",
    "# Uncomment the desired model and comment out the other one\n",
    "\n",
    "# Linear Regression\n",
    "regression_model = LinearRegression()\n",
    "regression_model.fit(train_data, train_target)\n",
    "\n",
    "# Random Forest Regression\n",
    "# regression_model = RandomForestRegressor(n_estimators=100, random_state=42)\n",
    "# regression_model.fit(X_train, y_train)\n",
    "\n",
    "# Once the model is trained, you can use it for prediction on new data\n",
    "X_test = test_data[top_20_variables]\n",
    "\n",
    "# Make predictions\n",
    "y_pred = regression_model.predict(X_test)\n",
    "\n",
    "# Calculate the relative estimate accuracy\n",
    "relative_accuracy = (y_pred - test_target) / test_target\n",
    "\n",
    "# Calculate the Mean Absolute Error (MAE)\n",
    "mae = abs(relative_accuracy).mean()\n",
    "\n",
    "# Print the MAE\n",
    "print(\"Mean Absolute Error (MAE):\", mae)\n"
   ]
  },
  {
   "cell_type": "markdown",
   "id": "42b559f9",
   "metadata": {},
   "source": [
    "## Tree based solution"
   ]
  },
  {
   "cell_type": "code",
   "execution_count": null,
   "id": "cdf8fac7",
   "metadata": {},
   "outputs": [],
   "source": [
    "from sklearn.ensemble import RandomForestRegressor\n",
    "# Define the number of trees in the random forest\n",
    "n_estimators = 20\n",
    "\n",
    "# Create the Random Forest regressor\n",
    "regressor = RandomForestRegressor(n_estimators=n_estimators)\n",
    "\n",
    "# Fit the regressor to the training data\n",
    "regressor.fit(train_data, train_target)\n",
    "\n",
    "# Make predictions on the test data\n",
    "y_pred = regressor.predict(test_data[top_20_variables])\n",
    "\n",
    "# Calculate the relative estimate accuracy\n",
    "relative_accuracy = (y_pred - test_target) / test_target\n",
    "\n",
    "# Calculate the Mean Absolute Error (MAE)\n",
    "mae = abs(relative_accuracy).mean()\n",
    "\n",
    "# Print the MAE\n",
    "print(\"Mean Absolute Error (MAE):\", mae)"
   ]
  },
  {
   "cell_type": "code",
   "execution_count": null,
   "id": "042bb364",
   "metadata": {},
   "outputs": [],
   "source": [
    "file = open(\"Regression_MiaoShang_RandomForestRegressor_VariableList.txt\",'w+')\n",
    "for i in range(len(top_20_variables)):\n",
    "    file.write(str(top_20_variables[i])+'\\n')"
   ]
  },
  {
   "cell_type": "markdown",
   "id": "9f3caa20",
   "metadata": {},
   "source": [
    "## Neural network based method"
   ]
  },
  {
   "cell_type": "code",
   "execution_count": null,
   "id": "022e745e",
   "metadata": {},
   "outputs": [],
   "source": [
    "from sklearn.neural_network import MLPRegressor\n",
    "\n",
    "# Create and train the MLPRegressor model\n",
    "model = MLPRegressor(hidden_layer_sizes=(20, 20), max_iter=1000, random_state=42)\n",
    "model.fit(train_data, train_target)\n",
    "\n",
    "# Make predictions on the testing set\n",
    "y_pred = model.predict(test_data[top_20_variables])\n",
    "\n",
    "# Calculate the relative estimate accuracy\n",
    "relative_accuracy = (y_pred - test_target) / test_target\n",
    "\n",
    "# Calculate the Mean Absolute Error (MAE)\n",
    "mae = abs(relative_accuracy).mean()\n",
    "\n",
    "# Print the MAE\n",
    "print(\"Mean Absolute Error (MAE):\", mae)"
   ]
  },
  {
   "cell_type": "code",
   "execution_count": null,
   "id": "05efb6e4",
   "metadata": {},
   "outputs": [],
   "source": [
    "file = open(\"Regression_MiaoShang_NeuralNetwork_VariableList.txt\",'w+')\n",
    "for i in range(len(top_20_variables)):\n",
    "    file.write(str(top_20_variables[i])+'\\n')"
   ]
  },
  {
   "cell_type": "code",
   "execution_count": null,
   "id": "e5d27820",
   "metadata": {},
   "outputs": [],
   "source": []
  }
 ],
 "metadata": {
  "kernelspec": {
   "display_name": "appml",
   "language": "python",
   "name": "appml"
  },
  "language_info": {
   "codemirror_mode": {
    "name": "ipython",
    "version": 3
   },
   "file_extension": ".py",
   "mimetype": "text/x-python",
   "name": "python",
   "nbconvert_exporter": "python",
   "pygments_lexer": "ipython3",
   "version": "3.8.12"
  }
 },
 "nbformat": 4,
 "nbformat_minor": 5
}
